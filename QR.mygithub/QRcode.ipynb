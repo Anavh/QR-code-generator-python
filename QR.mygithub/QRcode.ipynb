{
 "metadata": {
  "language_info": {
   "codemirror_mode": {
    "name": "ipython",
    "version": 3
   },
   "file_extension": ".py",
   "mimetype": "text/x-python",
   "name": "python",
   "nbconvert_exporter": "python",
   "pygments_lexer": "ipython3",
   "version": "3.8.3-final"
  },
  "orig_nbformat": 2,
  "kernelspec": {
   "name": "python3",
   "display_name": "Python 3",
   "language": "python"
  }
 },
 "nbformat": 4,
 "nbformat_minor": 2,
 "cells": [
  {
   "source": [
    "**QR CODE GENERATOR**\n",
    "=========="
   ],
   "cell_type": "markdown",
   "metadata": {}
  },
  {
   "source": [
    "**1. SET UP**\n",
    "=========="
   ],
   "cell_type": "markdown",
   "metadata": {}
  },
  {
   "source": [
    "Python packages:<br/>\n",
    "**python-qrcode** — Python QR code image generator. Standard installation includes pillow as well for generating images."
   ],
   "cell_type": "markdown",
   "metadata": {}
  },
  {
   "cell_type": "code",
   "execution_count": 12,
   "metadata": {},
   "outputs": [],
   "source": [
    "#pip install qrcode[pil]"
   ]
  },
  {
   "source": [
    "**2. GENERATE QR CODE**\n",
    "=========="
   ],
   "cell_type": "markdown",
   "metadata": {}
  },
  {
   "cell_type": "code",
   "execution_count": 13,
   "metadata": {},
   "outputs": [],
   "source": [
    "import qrcode\n",
    "from PIL import Image"
   ]
  },
  {
   "source": [
    "**qrcode.make() function**"
   ],
   "cell_type": "markdown",
   "metadata": {}
  },
  {
   "cell_type": "code",
   "execution_count": 14,
   "metadata": {},
   "outputs": [],
   "source": [
    "#make the qrcode for a text or an URL and save it inside variable \"img\" with qrcode.make() function\n",
    "img=qrcode.make(\"https://github.com/Anavh\")\t\t\n",
    "#save the resultant image \n",
    "img.save(\"mygithub.png\")\t\t\t\t\t\t\t\t\t                "
   ]
  },
  {
   "source": [
    "**QRCode class**"
   ],
   "cell_type": "markdown",
   "metadata": {}
  },
  {
   "source": [
    "**Version** — Accepts an integer from 1 to 40 which controls the size of the QR Code. The smallest version 1 has a dimension of 21 x 21. <br/>\n",
    "**Box_size** — Determines the number of pixels for each box of the QR code. <br/>\n",
    "**Border** — Determines the thickness of the border of the boxes. The default value is 4, which is the minimum size.<br/>\n",
    "**Error_correction constant** — Controls the error correction used.\n",
    "Error correction helps to improve the detection even when the image is disfigured or there is an overlay image on top of the QR Code. There are four constants available for error_correction:\n",
    "ERROR_CORRECT_L — About 7% or fewer errors can be corrected. <br/>\n",
    "ERROR_CORRECT_M — About 15% or fewer errors can be corrected. This is the default value.<br/>\n",
    "ERROR_CORRECT_Q — About 25% or fewer errors can be corrected.<br/>\n",
    "ERROR_CORRECT_H — About 30% or fewer errors can be corrected."
   ],
   "cell_type": "markdown",
   "metadata": {}
  },
  {
   "cell_type": "code",
   "execution_count": 15,
   "metadata": {},
   "outputs": [],
   "source": [
    "qr = qrcode.QRCode(\n",
    "    version=1,\n",
    "    error_correction=qrcode.constants.ERROR_CORRECT_H,\n",
    "    box_size=10,\n",
    "    border=4,)"
   ]
  },
  {
   "source": [
    "**Save as image file**"
   ],
   "cell_type": "markdown",
   "metadata": {}
  },
  {
   "source": [
    "**add_data() function**. Pass in the input text of your choice. Continue by appending the following code to generate a QR code with a white background and black fill."
   ],
   "cell_type": "markdown",
   "metadata": {}
  },
  {
   "cell_type": "code",
   "execution_count": 16,
   "metadata": {},
   "outputs": [],
   "source": [
    "qr.add_data('https://github.com/Anavh')\n",
    "qr.make(fit=True)\n",
    "img = qr.make_image(fill_color=\"black\", back_color=\"white\").convert('RGB')\n",
    "img.save(\"QRgithub.png\")"
   ]
  },
  {
   "source": [
    "**Overlay an image on a QR Code**"
   ],
   "cell_type": "markdown",
   "metadata": {}
  },
  {
   "source": [
    "Overlay image on top of it to promote your brand and prevent confusion with the other QR codes. <br/>\n",
    "Make sure to use the best error_correction constant to prevent issues with decoding it wrongly.<br/>\n",
    "\n",
    "- **thumbnail() function** helps to resize the image to a smaller resolution to prevent it from blocking the entire QR code.<br/>\n",
    "- **save() function** to save image."
   ],
   "cell_type": "markdown",
   "metadata": {}
  },
  {
   "cell_type": "code",
   "execution_count": 17,
   "metadata": {},
   "outputs": [],
   "source": [
    "logo_display = Image.open('ana.png')\n",
    "logo_display.thumbnail((60, 60))"
   ]
  },
  {
   "cell_type": "code",
   "execution_count": 18,
   "metadata": {},
   "outputs": [],
   "source": [
    "logo_pos = ((img.size[0] - logo_display.size[0]) // 2, (img.size[1] - logo_display.size[1]) // 2)\n",
    "img.paste(logo_display, logo_pos)"
   ]
  },
  {
   "cell_type": "code",
   "execution_count": 19,
   "metadata": {},
   "outputs": [],
   "source": [
    "img.save(\"QRgithub.png\")"
   ]
  }
 ]
}